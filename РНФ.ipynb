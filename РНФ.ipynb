{
 "cells": [
  {
   "cell_type": "code",
   "execution_count": 23,
   "metadata": {
    "collapsed": true
   },
   "outputs": [],
   "source": [
    "import requests\n",
    "from bs4 import BeautifulSoup\n",
    "import pandas as pd"
   ]
  },
  {
   "cell_type": "code",
   "execution_count": 24,
   "metadata": {
    "collapsed": true
   },
   "outputs": [],
   "source": [
    "with open(\"rnf.txt\") as f:\n",
    "    text = f.read()"
   ]
  },
  {
   "cell_type": "code",
   "execution_count": 25,
   "metadata": {
    "collapsed": false
   },
   "outputs": [],
   "source": [
    "soup = BeautifulSoup(text, 'html.parser')"
   ]
  },
  {
   "cell_type": "code",
   "execution_count": 69,
   "metadata": {
    "collapsed": false
   },
   "outputs": [],
   "source": [
    "items = []\n",
    "for tr in soup.findAll(\"tr\"):\n",
    "    tds = tr.findAll(\"td\")\n",
    "    item = {\n",
    "        \"№\": tds[0].text.strip(),\n",
    "        \"Номер проекта\": tds[1].text.strip(),\n",
    "        \"Название\": tds[2].span.text.strip(),\n",
    "        \"Руководитель\": tds[2].em.text.strip(),\n",
    "        \"Ключевые слова\": tds[2].span[\"title\"].text.strip(),\n",
    "        \"Коды классификатора\": tds[3].text.strip(),\n",
    "        \"Конкурс\": tds[4].text.strip(),\n",
    "        \"Организация, регион\": tds[5].text.strip(),\n",
    "    }\n",
    "    items.append(item)"
   ]
  },
  {
   "cell_type": "code",
   "execution_count": 70,
   "metadata": {
    "collapsed": true
   },
   "outputs": [],
   "source": [
    "df = pd.DataFrame(items)"
   ]
  },
  {
   "cell_type": "code",
   "execution_count": 71,
   "metadata": {
    "collapsed": false
   },
   "outputs": [
    {
     "ename": "KeyError",
     "evalue": "\"['\\\\xe2\\\\x84\\\\x96'\\n '\\\\xd0\\\\x9d\\\\xd0\\\\xbe\\\\xd0\\\\xbc\\\\xd0\\\\xb5\\\\xd1\\\\x80 \\\\xd0\\\\xbf\\\\xd1\\\\x80\\\\xd0\\\\xbe\\\\xd0\\\\xb5\\\\xd0\\\\xba\\\\xd1\\\\x82\\\\xd0\\\\xb0'\\n '\\\\xd0\\\\x9d\\\\xd0\\\\xb0\\\\xd0\\\\xb7\\\\xd0\\\\xb2\\\\xd0\\\\xb0\\\\xd0\\\\xbd\\\\xd0\\\\xb8\\\\xd0\\\\xb5'\\n '\\\\xd0\\\\xa0\\\\xd1\\\\x83\\\\xd0\\\\xba\\\\xd0\\\\xbe\\\\xd0\\\\xb2\\\\xd0\\\\xbe\\\\xd0\\\\xb4\\\\xd0\\\\xb8\\\\xd1\\\\x82\\\\xd0\\\\xb5\\\\xd0\\\\xbb\\\\xd1\\\\x8c'\\n '\\\\xd0\\\\x9a\\\\xd0\\\\xbb\\\\xd1\\\\x8e\\\\xd1\\\\x87\\\\xd0\\\\xb5\\\\xd0\\\\xb2\\\\xd1\\\\x8b\\\\xd0\\\\xb5 \\\\xd1\\\\x81\\\\xd0\\\\xbb\\\\xd0\\\\xbe\\\\xd0\\\\xb2\\\\xd0\\\\xb0'\\n '\\\\xd0\\\\x9a\\\\xd0\\\\xbe\\\\xd0\\\\xb4\\\\xd1\\\\x8b \\\\xd0\\\\xba\\\\xd0\\\\xbb\\\\xd0\\\\xb0\\\\xd1\\\\x81\\\\xd1\\\\x81\\\\xd0\\\\xb8\\\\xd1\\\\x84\\\\xd0\\\\xb8\\\\xd0\\\\xba\\\\xd0\\\\xb0\\\\xd1\\\\x82\\\\xd0\\\\xbe\\\\xd1\\\\x80\\\\xd0\\\\xb0'\\n '\\\\xd0\\\\x9a\\\\xd0\\\\xbe\\\\xd0\\\\xbd\\\\xd0\\\\xba\\\\xd1\\\\x83\\\\xd1\\\\x80\\\\xd1\\\\x81'\\n '\\\\xd0\\\\x9e\\\\xd1\\\\x80\\\\xd0\\\\xb3\\\\xd0\\\\xb0\\\\xd0\\\\xbd\\\\xd0\\\\xb8\\\\xd0\\\\xb7\\\\xd0\\\\xb0\\\\xd1\\\\x86\\\\xd0\\\\xb8\\\\xd1\\\\x8f, \\\\xd1\\\\x80\\\\xd0\\\\xb5\\\\xd0\\\\xb3\\\\xd0\\\\xb8\\\\xd0\\\\xbe\\\\xd0\\\\xbd'] not in index\"",
     "output_type": "error",
     "traceback": [
      "\u001b[1;31m---------------------------------------------------------------------------\u001b[0m",
      "\u001b[1;31mKeyError\u001b[0m                                  Traceback (most recent call last)",
      "\u001b[1;32m<ipython-input-71-bc75b4b92fbb>\u001b[0m in \u001b[0;36m<module>\u001b[1;34m()\u001b[0m\n\u001b[1;32m----> 1\u001b[1;33m \u001b[0mdf\u001b[0m \u001b[1;33m=\u001b[0m \u001b[0mdf\u001b[0m\u001b[1;33m[\u001b[0m\u001b[1;33m[\u001b[0m\u001b[1;34m\"№\"\u001b[0m\u001b[1;33m,\u001b[0m \u001b[1;34m\"Номер проекта\"\u001b[0m\u001b[1;33m,\u001b[0m \u001b[1;34m\"Название\"\u001b[0m\u001b[1;33m,\u001b[0m \u001b[1;34m\"Руководитель\"\u001b[0m\u001b[1;33m,\u001b[0m \u001b[1;34m\"Ключевые слова\"\u001b[0m\u001b[1;33m,\u001b[0m \u001b[1;34m\"Коды классификатора\"\u001b[0m\u001b[1;33m,\u001b[0m \u001b[1;34m\"Конкурс\"\u001b[0m\u001b[1;33m,\u001b[0m \u001b[1;34m\"Организация, регион\"\u001b[0m\u001b[1;33m]\u001b[0m\u001b[1;33m]\u001b[0m\u001b[1;33m\u001b[0m\u001b[0m\n\u001b[0m",
      "\u001b[1;32mC:\\Users\\illusionww\\Anaconda2\\lib\\site-packages\\pandas\\core\\frame.pyc\u001b[0m in \u001b[0;36m__getitem__\u001b[1;34m(self, key)\u001b[0m\n\u001b[0;32m   1984\u001b[0m         \u001b[1;32mif\u001b[0m \u001b[0misinstance\u001b[0m\u001b[1;33m(\u001b[0m\u001b[0mkey\u001b[0m\u001b[1;33m,\u001b[0m \u001b[1;33m(\u001b[0m\u001b[0mSeries\u001b[0m\u001b[1;33m,\u001b[0m \u001b[0mnp\u001b[0m\u001b[1;33m.\u001b[0m\u001b[0mndarray\u001b[0m\u001b[1;33m,\u001b[0m \u001b[0mIndex\u001b[0m\u001b[1;33m,\u001b[0m \u001b[0mlist\u001b[0m\u001b[1;33m)\u001b[0m\u001b[1;33m)\u001b[0m\u001b[1;33m:\u001b[0m\u001b[1;33m\u001b[0m\u001b[0m\n\u001b[0;32m   1985\u001b[0m             \u001b[1;31m# either boolean or fancy integer index\u001b[0m\u001b[1;33m\u001b[0m\u001b[1;33m\u001b[0m\u001b[0m\n\u001b[1;32m-> 1986\u001b[1;33m             \u001b[1;32mreturn\u001b[0m \u001b[0mself\u001b[0m\u001b[1;33m.\u001b[0m\u001b[0m_getitem_array\u001b[0m\u001b[1;33m(\u001b[0m\u001b[0mkey\u001b[0m\u001b[1;33m)\u001b[0m\u001b[1;33m\u001b[0m\u001b[0m\n\u001b[0m\u001b[0;32m   1987\u001b[0m         \u001b[1;32melif\u001b[0m \u001b[0misinstance\u001b[0m\u001b[1;33m(\u001b[0m\u001b[0mkey\u001b[0m\u001b[1;33m,\u001b[0m \u001b[0mDataFrame\u001b[0m\u001b[1;33m)\u001b[0m\u001b[1;33m:\u001b[0m\u001b[1;33m\u001b[0m\u001b[0m\n\u001b[0;32m   1988\u001b[0m             \u001b[1;32mreturn\u001b[0m \u001b[0mself\u001b[0m\u001b[1;33m.\u001b[0m\u001b[0m_getitem_frame\u001b[0m\u001b[1;33m(\u001b[0m\u001b[0mkey\u001b[0m\u001b[1;33m)\u001b[0m\u001b[1;33m\u001b[0m\u001b[0m\n",
      "\u001b[1;32mC:\\Users\\illusionww\\Anaconda2\\lib\\site-packages\\pandas\\core\\frame.pyc\u001b[0m in \u001b[0;36m_getitem_array\u001b[1;34m(self, key)\u001b[0m\n\u001b[0;32m   2028\u001b[0m             \u001b[1;32mreturn\u001b[0m \u001b[0mself\u001b[0m\u001b[1;33m.\u001b[0m\u001b[0mtake\u001b[0m\u001b[1;33m(\u001b[0m\u001b[0mindexer\u001b[0m\u001b[1;33m,\u001b[0m \u001b[0maxis\u001b[0m\u001b[1;33m=\u001b[0m\u001b[1;36m0\u001b[0m\u001b[1;33m,\u001b[0m \u001b[0mconvert\u001b[0m\u001b[1;33m=\u001b[0m\u001b[0mFalse\u001b[0m\u001b[1;33m)\u001b[0m\u001b[1;33m\u001b[0m\u001b[0m\n\u001b[0;32m   2029\u001b[0m         \u001b[1;32melse\u001b[0m\u001b[1;33m:\u001b[0m\u001b[1;33m\u001b[0m\u001b[0m\n\u001b[1;32m-> 2030\u001b[1;33m             \u001b[0mindexer\u001b[0m \u001b[1;33m=\u001b[0m \u001b[0mself\u001b[0m\u001b[1;33m.\u001b[0m\u001b[0mix\u001b[0m\u001b[1;33m.\u001b[0m\u001b[0m_convert_to_indexer\u001b[0m\u001b[1;33m(\u001b[0m\u001b[0mkey\u001b[0m\u001b[1;33m,\u001b[0m \u001b[0maxis\u001b[0m\u001b[1;33m=\u001b[0m\u001b[1;36m1\u001b[0m\u001b[1;33m)\u001b[0m\u001b[1;33m\u001b[0m\u001b[0m\n\u001b[0m\u001b[0;32m   2031\u001b[0m             \u001b[1;32mreturn\u001b[0m \u001b[0mself\u001b[0m\u001b[1;33m.\u001b[0m\u001b[0mtake\u001b[0m\u001b[1;33m(\u001b[0m\u001b[0mindexer\u001b[0m\u001b[1;33m,\u001b[0m \u001b[0maxis\u001b[0m\u001b[1;33m=\u001b[0m\u001b[1;36m1\u001b[0m\u001b[1;33m,\u001b[0m \u001b[0mconvert\u001b[0m\u001b[1;33m=\u001b[0m\u001b[0mTrue\u001b[0m\u001b[1;33m)\u001b[0m\u001b[1;33m\u001b[0m\u001b[0m\n\u001b[0;32m   2032\u001b[0m \u001b[1;33m\u001b[0m\u001b[0m\n",
      "\u001b[1;32mC:\\Users\\illusionww\\Anaconda2\\lib\\site-packages\\pandas\\core\\indexing.pyc\u001b[0m in \u001b[0;36m_convert_to_indexer\u001b[1;34m(self, obj, axis, is_setter)\u001b[0m\n\u001b[0;32m   1208\u001b[0m                 \u001b[0mmask\u001b[0m \u001b[1;33m=\u001b[0m \u001b[0mcheck\u001b[0m \u001b[1;33m==\u001b[0m \u001b[1;33m-\u001b[0m\u001b[1;36m1\u001b[0m\u001b[1;33m\u001b[0m\u001b[0m\n\u001b[0;32m   1209\u001b[0m                 \u001b[1;32mif\u001b[0m \u001b[0mmask\u001b[0m\u001b[1;33m.\u001b[0m\u001b[0many\u001b[0m\u001b[1;33m(\u001b[0m\u001b[1;33m)\u001b[0m\u001b[1;33m:\u001b[0m\u001b[1;33m\u001b[0m\u001b[0m\n\u001b[1;32m-> 1210\u001b[1;33m                     \u001b[1;32mraise\u001b[0m \u001b[0mKeyError\u001b[0m\u001b[1;33m(\u001b[0m\u001b[1;34m'%s not in index'\u001b[0m \u001b[1;33m%\u001b[0m \u001b[0mobjarr\u001b[0m\u001b[1;33m[\u001b[0m\u001b[0mmask\u001b[0m\u001b[1;33m]\u001b[0m\u001b[1;33m)\u001b[0m\u001b[1;33m\u001b[0m\u001b[0m\n\u001b[0m\u001b[0;32m   1211\u001b[0m \u001b[1;33m\u001b[0m\u001b[0m\n\u001b[0;32m   1212\u001b[0m                 \u001b[1;32mreturn\u001b[0m \u001b[0m_values_from_object\u001b[0m\u001b[1;33m(\u001b[0m\u001b[0mindexer\u001b[0m\u001b[1;33m)\u001b[0m\u001b[1;33m\u001b[0m\u001b[0m\n",
      "\u001b[1;31mKeyError\u001b[0m: \"['\\\\xe2\\\\x84\\\\x96'\\n '\\\\xd0\\\\x9d\\\\xd0\\\\xbe\\\\xd0\\\\xbc\\\\xd0\\\\xb5\\\\xd1\\\\x80 \\\\xd0\\\\xbf\\\\xd1\\\\x80\\\\xd0\\\\xbe\\\\xd0\\\\xb5\\\\xd0\\\\xba\\\\xd1\\\\x82\\\\xd0\\\\xb0'\\n '\\\\xd0\\\\x9d\\\\xd0\\\\xb0\\\\xd0\\\\xb7\\\\xd0\\\\xb2\\\\xd0\\\\xb0\\\\xd0\\\\xbd\\\\xd0\\\\xb8\\\\xd0\\\\xb5'\\n '\\\\xd0\\\\xa0\\\\xd1\\\\x83\\\\xd0\\\\xba\\\\xd0\\\\xbe\\\\xd0\\\\xb2\\\\xd0\\\\xbe\\\\xd0\\\\xb4\\\\xd0\\\\xb8\\\\xd1\\\\x82\\\\xd0\\\\xb5\\\\xd0\\\\xbb\\\\xd1\\\\x8c'\\n '\\\\xd0\\\\x9a\\\\xd0\\\\xbb\\\\xd1\\\\x8e\\\\xd1\\\\x87\\\\xd0\\\\xb5\\\\xd0\\\\xb2\\\\xd1\\\\x8b\\\\xd0\\\\xb5 \\\\xd1\\\\x81\\\\xd0\\\\xbb\\\\xd0\\\\xbe\\\\xd0\\\\xb2\\\\xd0\\\\xb0'\\n '\\\\xd0\\\\x9a\\\\xd0\\\\xbe\\\\xd0\\\\xb4\\\\xd1\\\\x8b \\\\xd0\\\\xba\\\\xd0\\\\xbb\\\\xd0\\\\xb0\\\\xd1\\\\x81\\\\xd1\\\\x81\\\\xd0\\\\xb8\\\\xd1\\\\x84\\\\xd0\\\\xb8\\\\xd0\\\\xba\\\\xd0\\\\xb0\\\\xd1\\\\x82\\\\xd0\\\\xbe\\\\xd1\\\\x80\\\\xd0\\\\xb0'\\n '\\\\xd0\\\\x9a\\\\xd0\\\\xbe\\\\xd0\\\\xbd\\\\xd0\\\\xba\\\\xd1\\\\x83\\\\xd1\\\\x80\\\\xd1\\\\x81'\\n '\\\\xd0\\\\x9e\\\\xd1\\\\x80\\\\xd0\\\\xb3\\\\xd0\\\\xb0\\\\xd0\\\\xbd\\\\xd0\\\\xb8\\\\xd0\\\\xb7\\\\xd0\\\\xb0\\\\xd1\\\\x86\\\\xd0\\\\xb8\\\\xd1\\\\x8f, \\\\xd1\\\\x80\\\\xd0\\\\xb5\\\\xd0\\\\xb3\\\\xd0\\\\xb8\\\\xd0\\\\xbe\\\\xd0\\\\xbd'] not in index\""
     ]
    }
   ],
   "source": [
    "df = df[[\"№\", \"Номер проекта\", \"Название\", \"Руководитель\", \"Ключевые слова\", \"Коды классификатора\", \"Конкурс\", \"Организация, регион\"]]"
   ]
  },
  {
   "cell_type": "code",
   "execution_count": 66,
   "metadata": {
    "collapsed": false
   },
   "outputs": [
    {
     "data": {
      "text/html": [
       "<div>\n",
       "<table border=\"1\" class=\"dataframe\">\n",
       "  <thead>\n",
       "    <tr style=\"text-align: right;\">\n",
       "      <th></th>\n",
       "    </tr>\n",
       "  </thead>\n",
       "  <tbody>\n",
       "  </tbody>\n",
       "</table>\n",
       "</div>"
      ],
      "text/plain": [
       "Empty DataFrame\n",
       "Columns: []\n",
       "Index: []"
      ]
     },
     "execution_count": 66,
     "metadata": {},
     "output_type": "execute_result"
    }
   ],
   "source": [
    "df"
   ]
  },
  {
   "cell_type": "code",
   "execution_count": 53,
   "metadata": {
    "collapsed": false
   },
   "outputs": [],
   "source": [
    "additional_data = []\n",
    "for row in df.iterrows():\n",
    "    proj_num = row[1][1]\n",
    "    soup = BeautifulSoup(requests.get(\"http://xn--m1afn.xn--p1ai/prjcard_int?\" + proj_num).text, 'html.parser')\n",
    "    rows = soup.findAll('p')\n",
    "    additional_data.append([row.text for row in rows])\n",
    "    break"
   ]
  },
  {
   "cell_type": "code",
   "execution_count": 56,
   "metadata": {
    "collapsed": false
   },
   "outputs": [
    {
     "data": {
      "text/plain": [
       "u'\\n\\u041d\\u043e\\u043c\\u0435\\u044014-27-00068'"
      ]
     },
     "execution_count": 56,
     "metadata": {},
     "output_type": "execute_result"
    }
   ],
   "source": [
    "additional_data[0][4]"
   ]
  }
 ],
 "metadata": {
  "kernelspec": {
   "display_name": "Python 2",
   "language": "python",
   "name": "python2"
  },
  "language_info": {
   "codemirror_mode": {
    "name": "ipython",
    "version": 2
   },
   "file_extension": ".py",
   "mimetype": "text/x-python",
   "name": "python",
   "nbconvert_exporter": "python",
   "pygments_lexer": "ipython2",
   "version": "2.7.11"
  }
 },
 "nbformat": 4,
 "nbformat_minor": 0
}
