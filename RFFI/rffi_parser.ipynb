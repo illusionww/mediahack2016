{
 "cells": [
  {
   "cell_type": "code",
   "execution_count": 120,
   "metadata": {
    "collapsed": true
   },
   "outputs": [],
   "source": [
    "import requests\n",
    "from bs4 import BeautifulSoup\n",
    "import pandas as pd"
   ]
  },
  {
   "cell_type": "code",
   "execution_count": 121,
   "metadata": {
    "collapsed": false
   },
   "outputs": [],
   "source": [
    "grants = []\n",
    "\n",
    "for page in range(1, 345 + 1):\n",
    "    url = 'http://www.rfbr.ru/rffi/ru/project_search?query=&GRANT_ITEMS=1000' + '&page=' + str(page)\n",
    "\n",
    "    soup = BeautifulSoup(requests.get(url).text, 'html.parser')\n",
    "    table_rows = soup.find('table').findAll('tr', {'class': 'tr'})\n",
    "    \n",
    "    for i in range(1, len(table_rows)):\n",
    "        table_row = table_rows[i]\n",
    "        table_cols = table_row.findAll('td')\n",
    "    \n",
    "        name = table_cols[2].find('a').text\n",
    "        href = table_cols[2].find('a')['href']\n",
    "        grant_n = table_cols[3].find('p').text\n",
    "        grant_t = table_cols[4].find('p').text\n",
    "    \n",
    "        grants.append({'name': name, 'href': href, 'grant_n': grant_n, 'grant_t': grant_t})\n",
    "        \n",
    "    print(float(page)/345 * 100)"
   ]
  },
  {
   "cell_type": "code",
   "execution_count": 122,
   "metadata": {
    "collapsed": false
   },
   "outputs": [],
   "source": [
    "rffi = pd.DataFrame(grants)"
   ]
  },
  {
   "cell_type": "code",
   "execution_count": 124,
   "metadata": {
    "collapsed": false
   },
   "outputs": [
    {
     "data": {
      "text/plain": [
       "344398"
      ]
     },
     "execution_count": 124,
     "metadata": {},
     "output_type": "execute_result"
    }
   ],
   "source": [
    "len(rffi)"
   ]
  },
  {
   "cell_type": "code",
   "execution_count": 125,
   "metadata": {
    "collapsed": false,
    "scrolled": true
   },
   "outputs": [
    {
     "data": {
      "text/html": [
       "<div>\n",
       "<table border=\"1\" class=\"dataframe\">\n",
       "  <thead>\n",
       "    <tr style=\"text-align: right;\">\n",
       "      <th></th>\n",
       "      <th>grant_n</th>\n",
       "      <th>grant_t</th>\n",
       "      <th>href</th>\n",
       "      <th>name</th>\n",
       "    </tr>\n",
       "  </thead>\n",
       "  <tbody>\n",
       "    <tr>\n",
       "      <th>344393</th>\n",
       "      <td>93-01-26073</td>\n",
       "      <td>«а»</td>\n",
       "      <td>/rffi/ru/project_search/o_80043</td>\n",
       "      <td>Участие в научной программе Европейского Научн...</td>\n",
       "    </tr>\n",
       "    <tr>\n",
       "      <th>344394</th>\n",
       "      <td>93-01-17343</td>\n",
       "      <td>«а»</td>\n",
       "      <td>/rffi/ru/project_search/o_79994</td>\n",
       "      <td>Экспериментальное и численное исследование пер...</td>\n",
       "    </tr>\n",
       "    <tr>\n",
       "      <th>344395</th>\n",
       "      <td>93-02-17044</td>\n",
       "      <td>«д»</td>\n",
       "      <td>/rffi/ru/project_search/o_58574</td>\n",
       "      <td>Марс. Глобус Марса-еще одна «планета» у вас на...</td>\n",
       "    </tr>\n",
       "    <tr>\n",
       "      <th>344396</th>\n",
       "      <td>98-05-78054</td>\n",
       "      <td>«д»</td>\n",
       "      <td>/rffi/ru/project_search/o_58469</td>\n",
       "      <td>Нетрадиционные комплексные золото-платиноидные...</td>\n",
       "    </tr>\n",
       "    <tr>\n",
       "      <th>344397</th>\n",
       "      <td>96-06-87089</td>\n",
       "      <td>«д»</td>\n",
       "      <td>/rffi/ru/project_search/o_58185</td>\n",
       "      <td>Информационная теория стоимости.</td>\n",
       "    </tr>\n",
       "  </tbody>\n",
       "</table>\n",
       "</div>"
      ],
      "text/plain": [
       "            grant_n grant_t                             href  \\\n",
       "344393  93-01-26073     «а»  /rffi/ru/project_search/o_80043   \n",
       "344394  93-01-17343     «а»  /rffi/ru/project_search/o_79994   \n",
       "344395  93-02-17044     «д»  /rffi/ru/project_search/o_58574   \n",
       "344396  98-05-78054     «д»  /rffi/ru/project_search/o_58469   \n",
       "344397  96-06-87089     «д»  /rffi/ru/project_search/o_58185   \n",
       "\n",
       "                                                     name  \n",
       "344393  Участие в научной программе Европейского Научн...  \n",
       "344394  Экспериментальное и численное исследование пер...  \n",
       "344395  Марс. Глобус Марса-еще одна «планета» у вас на...  \n",
       "344396  Нетрадиционные комплексные золото-платиноидные...  \n",
       "344397                   Информационная теория стоимости.  "
      ]
     },
     "execution_count": 125,
     "metadata": {},
     "output_type": "execute_result"
    }
   ],
   "source": [
    "rffi.tail()"
   ]
  },
  {
   "cell_type": "code",
   "execution_count": 126,
   "metadata": {
    "collapsed": false
   },
   "outputs": [],
   "source": [
    "rffi.to_excel(\"rffi_all.xlsx\", encoding=\"UTF-8\", engine='xlsxwriter')"
   ]
  },
  {
   "cell_type": "markdown",
   "metadata": {},
   "source": [
    "Всего: "
   ]
  },
  {
   "cell_type": "code",
   "execution_count": null,
   "metadata": {
    "collapsed": true
   },
   "outputs": [],
   "source": [
    "7 * 21190"
   ]
  },
  {
   "cell_type": "markdown",
   "metadata": {},
   "source": [
    "Одобрено:"
   ]
  },
  {
   "cell_type": "markdown",
   "metadata": {},
   "source": [
    "Математика, механика, информатика \n",
    "Физика и астрономия\n",
    "Химия и науки о материалах\n",
    "Биология и медицинские науки\n",
    "Науки о Земле\n",
    "Естественнонаучные методы исследований в гуманитарных науках\n",
    "Инфокоммуникационные технологии и вычислительные системы\n",
    "Фундаментальные основы инженерных наук\n"
   ]
  }
 ],
 "metadata": {
  "kernelspec": {
   "display_name": "Python 2",
   "language": "python",
   "name": "python2"
  },
  "language_info": {
   "codemirror_mode": {
    "name": "ipython",
    "version": 2
   },
   "file_extension": ".py",
   "mimetype": "text/x-python",
   "name": "python",
   "nbconvert_exporter": "python",
   "pygments_lexer": "ipython2",
   "version": "2.7.11"
  }
 },
 "nbformat": 4,
 "nbformat_minor": 0
}
