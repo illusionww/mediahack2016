{
 "cells": [
  {
   "cell_type": "code",
   "execution_count": 26,
   "metadata": {
    "collapsed": true
   },
   "outputs": [],
   "source": [
    "import collections\n",
    "import unicodedata\n",
    "import requests\n",
    "from datetime import datetime, date, time\n",
    "import csv\n",
    "import pandas as pd"
   ]
  },
  {
   "cell_type": "markdown",
   "metadata": {},
   "source": [
    "# Universal get by query"
   ]
  },
  {
   "cell_type": "code",
   "execution_count": 71,
   "metadata": {
    "collapsed": false
   },
   "outputs": [],
   "source": [
    "class ApiException(Exception): pass\n",
    "class InvalidRequestException(ApiException): pass\n",
    "class DataNotFoundException(ApiException): pass\n",
    "class TooManyRecordsException(ApiException): pass\n",
    "\n",
    "def get_raw_contracts_if_possible(params):\n",
    "    raw_json = requests.get(\"http://openapi.clearspending.ru/restapi/v3/contracts/search/\", params=params)\n",
    "    if raw_json.text == \"Invalid request.\":\n",
    "        raise InvalidRequestException(params)\n",
    "    if raw_json.text == \"Data not found.\":\n",
    "        raise DataNotFoundException(params)\n",
    "        \n",
    "    json = raw_json.json()[\"contracts\"]\n",
    "    contracts = json[\"data\"]\n",
    "    \n",
    "    if (json[\"page\"] == 1):\n",
    "        total = json[\"total\"]\n",
    "        print 'total:', total,\n",
    "        if total == 500:\n",
    "            raise TooManyRecordsException(params)\n",
    "        print '\\t| 1',\n",
    "        if total > 50:\n",
    "            for page_num in range(2, total/50 + 2):\n",
    "                params_with_page = params.copy()\n",
    "                params_with_page['page'] = page_num\n",
    "                print page_num,\n",
    "                page_contracts = get_raw_contracts_if_possible(params_with_page)\n",
    "                contracts.extend(page_contracts)\n",
    "    return contracts\n",
    "\n",
    "def get_deals_with_restriction(params, start_date, end_date):\n",
    "    params_with_daterange = params.copy()\n",
    "    params_with_daterange['daterange'] = start_date.strftime(\"%d.%m.%Y\") + \"-\" + end_date.strftime(\"%d.%m.%Y\")\n",
    "    print params_with_daterange['daterange'], \n",
    "    try:\n",
    "        contracts = get_raw_contracts_if_possible(params_with_daterange)\n",
    "        print ''\n",
    "    except TooManyRecordsException as e:\n",
    "        print 'too many!'\n",
    "        middle_date = start_date + (end_date - start_date)/2\n",
    "        contracts = get_deals_with_restriction(params, start_date, middle_date)\n",
    "        contracts2 = get_deals_with_restriction(params, middle_date, end_date)\n",
    "        contracts.extend(contracts2)\n",
    "    except Exception as e:\n",
    "        print ''\n",
    "        raise\n",
    "    return contracts"
   ]
  },
  {
   "cell_type": "markdown",
   "metadata": {},
   "source": [
    "# Preprocessing"
   ]
  },
  {
   "cell_type": "code",
   "execution_count": 5,
   "metadata": {
    "collapsed": false
   },
   "outputs": [],
   "source": [
    "def dict_to_plain_dict(branch, prefix):\n",
    "    d = {}\n",
    "    for key, value in branch.iteritems():\n",
    "        if isinstance(value, dict):\n",
    "            dd = dict_to_plain_dict(value, prefix + \"_\" + key if prefix != '' else key)\n",
    "            d.update(dd)\n",
    "        else:\n",
    "            d[prefix + \"_\" + key if prefix != '' else key] = value\n",
    "    return d"
   ]
  },
  {
   "cell_type": "markdown",
   "metadata": {},
   "source": [
    "# Main"
   ]
  },
  {
   "cell_type": "code",
   "execution_count": 76,
   "metadata": {
    "collapsed": true
   },
   "outputs": [],
   "source": [
    "def get_raw_contracts_by_okdp_list(okdp_list, start_date, end_date):\n",
    "    contracts = []\n",
    "    for okdp in okdp_list:\n",
    "        print '!okdp', okdp,\n",
    "        params = {\n",
    "            \"okdp_okpd\": okdp\n",
    "        }\n",
    "        try:\n",
    "            okdp_contracts = get_deals_with_restriction(params, start_date, end_date)\n",
    "            contracts.extend(okdp_contracts)\n",
    "        except ApiException as e:\n",
    "            print type(e), e\n",
    "    return contracts"
   ]
  },
  {
   "cell_type": "code",
   "execution_count": 77,
   "metadata": {
    "collapsed": false,
    "scrolled": true
   },
   "outputs": [
    {
     "name": "stdout",
     "output_type": "stream",
     "text": [
      "!okdp 92.20.11.110 01.01.2014-31.12.2015 total: 1 \t| 1 \n",
      "!okdp 92.20.11.111 01.01.2014-31.12.2015 total: 20 \t| 1 \n",
      "!okdp 92.20.11.112 01.01.2014-31.12.2015 total: 23 \t| 1 \n",
      "!okdp 92.20.11.120 01.01.2014-31.12.2015 total: 41 \t| 1 \n",
      "!okdp 92.20.11.121 01.01.2014-31.12.2015 total: 407 \t| 1 2 3 4 5 6 7 8 9 \n",
      "!okdp 92.20.11.122 01.01.2014-31.12.2015 total: 457 \t| 1 2 3 4 5 6 7 8 9 10 \n",
      "!okdp 92.20.11.130 01.01.2014-31.12.2015 total: 3 \t| 1 \n",
      "!okdp 92.20.11.131 01.01.2014-31.12.2015 total: 23 \t| 1 \n",
      "!okdp 92.20.11.132 01.01.2014-31.12.2015 total: 24 \t| 1 \n",
      "!okdp 92.20.11.140 01.01.2014-31.12.2015 total: 2 \t| 1 \n",
      "!okdp 92.20.11.141 01.01.2014-31.12.2015 total: 9 \t| 1 \n",
      "!okdp 92.20.11.142 01.01.2014-31.12.2015 total: 12 \t| 1 \n",
      "!okdp 92.20.11.190 01.01.2014-31.12.2015 total: 2 \t| 1 \n",
      "!okdp 92.20.11.191 01.01.2014-31.12.2015 total: 88 \t| 1 2 \n",
      "!okdp 92.20.11.192 01.01.2014-31.12.2015 total: 94 \t| 1 2 \n",
      "!okdp 92.20.12.110 01.01.2014-31.12.2015 total: 4 \t| 1 \n",
      "!okdp 92.20.12.111 01.01.2014-31.12.2015 total: 28 \t| 1 \n",
      "!okdp 92.20.12.112 01.01.2014-31.12.2015 total: 38 \t| 1 \n",
      "!okdp 92.20.12.120 01.01.2014-31.12.2015 total: 173 \t| 1 2 3 4 \n",
      "!okdp 92.20.12.121 01.01.2014-31.12.2015 total: 500 too many!\n",
      "01.01.2014-31.12.2014 total: 428 \t| 1 2 3 4 5 6 7 8 9 \n",
      "31.12.2014-31.12.2015 total: 500 too many!\n",
      "31.12.2014-01.07.2015 total: 361 \t| 1 2 3 4 5 6 7 8 \n",
      "01.07.2015-31.12.2015 total: 153 \t| 1 2 3 4 \n",
      "!okdp 92.20.12.122 01.01.2014-31.12.2015 total: 500 too many!\n",
      "01.01.2014-31.12.2014 total: 500 too many!\n",
      "01.01.2014-02.07.2014 total: 500 too many!\n",
      "01.01.2014-02.04.2014 total: 210 \t| 1 2 3 4 5 \n",
      "02.04.2014-02.07.2014 total: 310 \t| 1 2 3 4 5 6 7 \n",
      "02.07.2014-31.12.2014 total: 500 too many!\n",
      "02.07.2014-01.10.2014 total: 265 \t| 1 2 3 4 5 6 \n",
      "01.10.2014-31.12.2014 total: 246 \t| 1 2 3 4 5 \n",
      "31.12.2014-31.12.2015 total: 500 too many!\n",
      "31.12.2014-01.07.2015 total: 500 too many!\n",
      "31.12.2014-01.04.2015 total: 460 \t| 1 2 3 4 5 6 7 8 9 10 \n",
      "01.04.2015-01.07.2015 total: 295 \t| 1 2 3 4 5 6 \n",
      "01.07.2015-31.12.2015 total: 416 \t| 1 2 3 4 5 6 7 8 9 \n",
      "!okdp 92.20.12.130 01.01.2014-31.12.2015 total: 4 \t| 1 \n",
      "!okdp 92.20.12.131 01.01.2014-31.12.2015 total: 59 \t| 1 2 \n",
      "!okdp 92.20.12.132 01.01.2014-31.12.2015 total: 151 \t| 1 2 3 4 \n",
      "!okdp 92.20.12.140 01.01.2014-31.12.2015 total: 1 \t| 1 \n",
      "!okdp 92.20.12.141 01.01.2014-31.12.2015 total: 12 \t| 1 \n",
      "!okdp 92.20.12.142 01.01.2014-31.12.2015 total: 26 \t| 1 \n",
      "!okdp 92.20.12.190 01.01.2014-31.12.2015 total: 24 \t| 1 \n",
      "!okdp 92.20.12.191 01.01.2014-31.12.2015 total: 203 \t| 1 2 3 4 5 \n",
      "!okdp 92.20.12.192 01.01.2014-31.12.2015 total: 500 too many!\n",
      "01.01.2014-31.12.2014 total: 252 \t| 1 2 3 4 5 6 \n",
      "31.12.2014-31.12.2015 total: 256 \t| 1 2 3 4 5 6 \n",
      "!okdp 22.12.11.110 01.01.2014-31.12.2015 total: 14 \t| 1 \n",
      "!okdp 22.12.11.120 01.01.2014-31.12.2015 total: 198 \t| 1 2 3 4 \n",
      "!okdp 22.12.11.190 01.01.2014-31.12.2015 total: 500 too many!\n",
      "01.01.2014-31.12.2014 total: 356 \t| 1 2 3 4 5 6 7 8 \n",
      "31.12.2014-31.12.2015 total: 192 \t| 1 2 3 4 \n",
      "!okdp 22.12.11.210 01.01.2014-31.12.2015 total: 64 \t| 1 2 \n",
      "!okdp 22.12.12.110 01.01.2014-31.12.2015 \n",
      "<class '__main__.DataNotFoundException'> {'okdp_okpd': '22.12.12.110', 'daterange': '01.01.2014-31.12.2015'}\n",
      "!okdp 22.12.12.111 01.01.2014-31.12.2015 total: 10 \t| 1 \n",
      "!okdp 22.12.12.112 01.01.2014-31.12.2015 total: 3 \t| 1 \n",
      "!okdp 22.12.12.113 01.01.2014-31.12.2015 total: 4 \t| 1 \n",
      "!okdp 22.12.12.114 01.01.2014-31.12.2015 total: 12 \t| 1 \n",
      "!okdp 22.12.12.115 01.01.2014-31.12.2015 total: 6 \t| 1 \n",
      "!okdp 22.12.12.116 01.01.2014-31.12.2015 total: 1 \t| 1 \n",
      "!okdp 22.12.12.117 01.01.2014-31.12.2015 total: 1 \t| 1 \n",
      "!okdp 22.12.12.119 01.01.2014-31.12.2015 total: 6 \t| 1 \n",
      "!okdp 22.12.12.120 01.01.2014-31.12.2015 total: 14 \t| 1 \n",
      "!okdp 22.12.12.190 01.01.2014-31.12.2015 total: 25 \t| 1 \n",
      "!okdp 22.12.21.110 01.01.2014-31.12.2015 total: 203 \t| 1 2 3 4 5 \n",
      "!okdp 22.12.21.120 01.01.2014-31.12.2015 total: 10 \t| 1 \n",
      "!okdp 22.12.21.190 01.01.2014-31.12.2015 total: 16 \t| 1 \n",
      "!okdp 22.12.22.110 01.01.2014-31.12.2015 total: 13 \t| 1 \n",
      "!okdp 22.12.22.120 01.01.2014-31.12.2015 \n",
      "<class '__main__.DataNotFoundException'> {'okdp_okpd': '22.12.22.120', 'daterange': '01.01.2014-31.12.2015'}\n",
      "!okdp 22.12.22.190 01.01.2014-31.12.2015 total: 8 \t| 1 \n",
      "!okdp 22.12.99.000 01.01.2014-31.12.2015 total: 147 \t| 1 2 3 \n",
      "!okdp 22.13.11.110 01.01.2014-31.12.2015 total: 34 \t| 1 \n",
      "!okdp 22.13.11.111 01.01.2014-31.12.2015 total: 399 \t| 1 2 3 4 5 6 7 8 \n",
      "!okdp 22.13.11.112 01.01.2014-31.12.2015 total: 122 \t| 1 2 3 \n",
      "!okdp 22.13.11.113 01.01.2014-31.12.2015 total: 245 \t| 1 2 3 4 5 \n",
      "!okdp 22.13.11.114 01.01.2014-31.12.2015 total: 317 \t| 1 2 3 4 5 6 7 \n",
      "!okdp 22.13.11.115 01.01.2014-31.12.2015 total: 426 \t| 1 2 3 4 5 6 7 8 9 \n",
      "!okdp 22.13.11.116 01.01.2014-31.12.2015 total: 70 \t| 1 2 \n",
      "!okdp 22.13.11.117 01.01.2014-31.12.2015 total: 23 \t| 1 \n",
      "!okdp 22.13.11.118 01.01.2014-31.12.2015 total: 7 \t| 1 \n",
      "!okdp 22.13.11.119 01.01.2014-31.12.2015 total: 318 \t| 1 2 3 4 5 6 7 \n",
      "!okdp 22.13.11.120 01.01.2014-31.12.2015 total: 19 \t| 1 \n",
      "!okdp 22.13.11.121 01.01.2014-31.12.2015 total: 128 \t| 1 2 3 \n",
      "!okdp 22.13.11.122 01.01.2014-31.12.2015 total: 399 \t| 1 2 3 4 5 6 7 8 \n",
      "!okdp 22.13.11.123 01.01.2014-31.12.2015 total: 411 \t| 1 2 3 4 5 6 7 8 9 \n",
      "!okdp 22.13.11.124 01.01.2014-31.12.2015 total: 67 \t| 1 2 \n",
      "!okdp 22.13.11.125 01.01.2014-31.12.2015 total: 47 \t| 1 \n",
      "!okdp 22.13.11.126 01.01.2014-31.12.2015 total: 37 \t| 1 \n",
      "!okdp 22.13.11.129 01.01.2014-31.12.2015 total: 424 \t| 1 2 3 4 5 6 7 8 9 \n",
      "!okdp 22.13.11.190 01.01.2014-31.12.2015 total: 500 too many!\n",
      "01.01.2014-31.12.2014 total: 387 \t| 1 2 3 4 5 6 7 8 \n",
      "31.12.2014-31.12.2015 total: 264 \t| 1 2 3 4 5 6 \n",
      "!okdp 22.13.11.210 01.01.2014-31.12.2015 total: 32 \t| 1 \n",
      "!okdp 22.13.12.110 01.01.2014-31.12.2015 \n",
      "<class '__main__.DataNotFoundException'> {'okdp_okpd': '22.13.12.110', 'daterange': '01.01.2014-31.12.2015'}\n",
      "!okdp 22.13.12.111 01.01.2014-31.12.2015 total: 11 \t| 1 \n",
      "!okdp 22.13.12.112 01.01.2014-31.12.2015 total: 3 \t| 1 \n",
      "!okdp 22.13.12.113 01.01.2014-31.12.2015 \n",
      "<class '__main__.DataNotFoundException'> {'okdp_okpd': '22.13.12.113', 'daterange': '01.01.2014-31.12.2015'}\n",
      "!okdp 22.13.12.114 01.01.2014-31.12.2015 total: 1 \t| 1 \n",
      "!okdp 22.13.12.115 01.01.2014-31.12.2015 total: 9 \t| 1 \n",
      "!okdp 22.13.12.116 01.01.2014-31.12.2015 \n",
      "<class '__main__.DataNotFoundException'> {'okdp_okpd': '22.13.12.116', 'daterange': '01.01.2014-31.12.2015'}\n",
      "!okdp 22.13.12.117 01.01.2014-31.12.2015 total: 3 \t| 1 \n",
      "!okdp 22.13.12.118 01.01.2014-31.12.2015 \n",
      "<class '__main__.DataNotFoundException'> {'okdp_okpd': '22.13.12.118', 'daterange': '01.01.2014-31.12.2015'}\n",
      "!okdp 22.13.12.119 01.01.2014-31.12.2015 total: 1 \t| 1 \n",
      "!okdp 22.13.12.120 01.01.2014-31.12.2015 total: 3 \t| 1 \n",
      "!okdp 22.13.12.121 01.01.2014-31.12.2015 total: 1 \t| 1 \n",
      "!okdp 22.13.12.122 01.01.2014-31.12.2015 total: 36 \t| 1 \n",
      "!okdp 22.13.12.123 01.01.2014-31.12.2015 total: 26 \t| 1 \n",
      "!okdp 22.13.12.124 01.01.2014-31.12.2015 total: 2 \t| 1 \n",
      "!okdp 22.13.12.125 01.01.2014-31.12.2015 \n",
      "<class '__main__.DataNotFoundException'> {'okdp_okpd': '22.13.12.125', 'daterange': '01.01.2014-31.12.2015'}\n",
      "!okdp 22.13.12.126 01.01.2014-31.12.2015 total: 3 \t| 1 \n",
      "!okdp 22.13.12.129 01.01.2014-31.12.2015 total: 21 \t| 1 \n",
      "!okdp 22.13.12.190 01.01.2014-31.12.2015 total: 61 \t| 1 2 \n",
      "!okdp 22.13.21.110 01.01.2014-31.12.2015 total: 399 \t| 1 2 3 4 5 6 7 8 \n",
      "!okdp 22.13.21.120 01.01.2014-31.12.2015 total: 17 \t| 1 \n",
      "!okdp 22.13.21.190 01.01.2014-31.12.2015 total: 77 \t| 1 2 \n",
      "!okdp 22.13.22.110 01.01.2014-31.12.2015 total: 15 \t| 1 \n",
      "!okdp 22.13.22.120 01.01.2014-31.12.2015 total: 2 \t| 1 \n",
      "!okdp 22.13.22.190 01.01.2014-31.12.2015 total: 5 \t| 1 \n",
      "!okdp 22.13.99.000 01.01.2014-31.12.2015 total: 500 too many!\n",
      "01.01.2014-31.12.2014 total: 445 \t| 1 2 3 4 5 6 7 8 9 \n",
      "31.12.2014-31.12.2015 total: 430 \t| 1 2 3 4 5 6 7 8 9 \n"
     ]
    },
    {
     "name": "stderr",
     "output_type": "stream",
     "text": [
      "C:\\Users\\illusionww\\Anaconda2\\lib\\site-packages\\ipykernel\\__main__.py:32: SettingWithCopyWarning: \n",
      "A value is trying to be set on a copy of a slice from a DataFrame.\n",
      "Try using .loc[row_indexer,col_indexer] = value instead\n",
      "\n",
      "See the caveats in the documentation: http://pandas.pydata.org/pandas-docs/stable/indexing.html#indexing-view-versus-copy\n"
     ]
    }
   ],
   "source": [
    "start_date = date(2014, 1, 1)\n",
    "end_date = date(2015, 12, 31)\n",
    "\n",
    "with open('okdp_list.txt', 'r') as okdp_list_file:\n",
    "    okdp_list = okdp_list_file.read().split('\\n')\n",
    "\n",
    "raw_contracts = get_raw_contracts_by_okdp_list(okdp_list, start_date, end_date)"
   ]
  },
  {
   "cell_type": "code",
   "execution_count": 78,
   "metadata": {
    "collapsed": false
   },
   "outputs": [
    {
     "name": "stderr",
     "output_type": "stream",
     "text": [
      "C:\\Users\\illusionww\\Anaconda2\\lib\\site-packages\\ipykernel\\__main__.py:24: SettingWithCopyWarning: \n",
      "A value is trying to be set on a copy of a slice from a DataFrame.\n",
      "Try using .loc[row_indexer,col_indexer] = value instead\n",
      "\n",
      "See the caveats in the documentation: http://pandas.pydata.org/pandas-docs/stable/indexing.html#indexing-view-versus-copy\n"
     ]
    }
   ],
   "source": [
    "plain_contracts = [dict_to_plain_dict(raw_contract, \"\") for raw_contract in raw_contracts]\n",
    "raw_df = pd.DataFrame(plain_contracts)\n",
    "df = raw_df[[\n",
    "        'regNum',\n",
    "        'signDate',\n",
    "        'regionCode',\n",
    "        'customer_fullName',\n",
    "        'customer_inn',\n",
    "        'customer_kpp',\n",
    "        'suppliers',\n",
    "        'economic_sectors',\n",
    "        'finances_budget_code',\n",
    "        'finances_budget_name',\n",
    "        'finances_budgetLevel_code',\n",
    "        'finances_financeSource',\n",
    "        'products',\n",
    "        'price',\n",
    "        'currency_code',\n",
    "        'singleCustomerReason_id',\n",
    "        'singleCustomerReason_name',\n",
    "        'contractUrl'\n",
    "    ]]\n",
    "\n",
    "df['signDate'] = pd.to_datetime(df['signDate'], format='%Y-%m-%dT%H:%M:%S')"
   ]
  },
  {
   "cell_type": "code",
   "execution_count": 10,
   "metadata": {
    "collapsed": true
   },
   "outputs": [],
   "source": [
    "df.to_csv(\"contracts.csv\", sep='\\t', encoding='utf-8', escapechar=' ')"
   ]
  },
  {
   "cell_type": "code",
   "execution_count": 79,
   "metadata": {
    "collapsed": false
   },
   "outputs": [],
   "source": [
    "df.to_excel(\"contracts.xlsx\")"
   ]
  }
 ],
 "metadata": {
  "kernelspec": {
   "display_name": "Python 2",
   "language": "python",
   "name": "python2"
  },
  "language_info": {
   "codemirror_mode": {
    "name": "ipython",
    "version": 2
   },
   "file_extension": ".py",
   "mimetype": "text/x-python",
   "name": "python",
   "nbconvert_exporter": "python",
   "pygments_lexer": "ipython2",
   "version": "2.7.11"
  }
 },
 "nbformat": 4,
 "nbformat_minor": 0
}
