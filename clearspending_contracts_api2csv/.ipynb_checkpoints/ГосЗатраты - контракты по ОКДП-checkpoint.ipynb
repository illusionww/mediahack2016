{
 "cells": [
  {
   "cell_type": "code",
   "execution_count": 92,
   "metadata": {
    "collapsed": true
   },
   "outputs": [],
   "source": [
    "import requests\n",
    "from datetime import datetime, date, time\n",
    "import csv"
   ]
  },
  {
   "cell_type": "markdown",
   "metadata": {},
   "source": [
    "# Receive contracts"
   ]
  },
  {
   "cell_type": "code",
   "execution_count": 144,
   "metadata": {
    "collapsed": false
   },
   "outputs": [
    {
     "name": "stdout",
     "output_type": "stream",
     "text": [
      "\n"
     ]
    }
   ],
   "source": [
    "class ApiException(Exception): pass\n",
    "class InvalidRequestException(ApiException): pass\n",
    "class DataNotFoundException(ApiException): pass\n",
    "class TooManyRecordsException(ApiException): pass\n",
    "\n",
    "def get_raw_contracts_if_possible(params):\n",
    "    raw_json = requests.get(\"http://openapi.clearspending.ru/restapi/v3/contracts/search/\", params=params)\n",
    "    if raw_json.text == \"Invalid request.\":\n",
    "        raise InvalidRequestException(params)\n",
    "    if raw_json.text == \"Data not found.\":\n",
    "        raise DataNotFoundException(params)\n",
    "        \n",
    "    json = raw_json.json()[\"contracts\"]\n",
    "    contracts = json[\"data\"]\n",
    "    \n",
    "    if (json[\"page\"] == 1):\n",
    "        total = json[\"total\"]\n",
    "        print 'total:', total,\n",
    "        if total == 500:\n",
    "            raise TooManyRecordsException(params)\n",
    "        print '\\t| 1',\n",
    "        if total > 50:\n",
    "            for page_num in range(2, total/50 + 2):\n",
    "                params_with_page = params.copy()\n",
    "                params_with_page['page'] = page_num\n",
    "                print page_num,\n",
    "                page_contracts = get_raw_contracts_if_possible(params_with_page)\n",
    "                contracts.extend(page_contracts)\n",
    "    return contracts"
   ]
  },
  {
   "cell_type": "code",
   "execution_count": 146,
   "metadata": {
    "collapsed": false
   },
   "outputs": [
    {
     "name": "stdout",
     "output_type": "stream",
     "text": [
      "\n"
     ]
    }
   ],
   "source": [
    "def get_deals_with_restriction(params, start_date, end_date):\n",
    "    params_with_daterange = params.copy()\n",
    "    params_with_daterange['daterange'] = start_date.strftime(\"%d.%m.%Y\") + \"-\" + end_date.strftime(\"%d.%m.%Y\")\n",
    "    print params_with_daterange['daterange'], \n",
    "    try:\n",
    "        contracts = get_raw_contracts_if_possible(params_with_daterange)\n",
    "        print ''\n",
    "    except TooManyRecordsException as e:\n",
    "        print 'too many!'\n",
    "        middle_date = start_date + (end_date - start_date)/2\n",
    "        contracts = get_deals_with_restriction(params, start_date, middle_date)\n",
    "        contracts2 = get_deals_with_restriction(params, middle_date, end_date)\n",
    "        contracts.extend(contracts2)\n",
    "    except Exception as e:\n",
    "        print ''\n",
    "        raise\n",
    "    return contracts"
   ]
  },
  {
   "cell_type": "code",
   "execution_count": 131,
   "metadata": {
    "collapsed": false
   },
   "outputs": [],
   "source": [
    "def get_raw_contracts(okdp_list, start_date, end_date):\n",
    "    contracts = []\n",
    "    for okdp in okdp_list:\n",
    "        print '!okdp', okdp,\n",
    "        params = {\n",
    "            \"okdp_okpd\": okdp\n",
    "        }\n",
    "        try:\n",
    "            okdp_contracts = get_deals_with_restriction(params, start_date, end_date)\n",
    "            contracts.extend(okdp_contracts)\n",
    "        except ApiException as e:\n",
    "            print type(e), e\n",
    "    return contracts"
   ]
  },
  {
   "cell_type": "markdown",
   "metadata": {},
   "source": [
    "# Preprocessing"
   ]
  },
  {
   "cell_type": "code",
   "execution_count": 107,
   "metadata": {
    "collapsed": true
   },
   "outputs": [],
   "source": [
    "def preprocessing(raw_contract):\n",
    "    return {\n",
    "        \"regionCode\": raw_contract[\"regionCode\"],\n",
    "        \"signDate\": raw_contract[\"signDate\"],\n",
    "        \"executionDate\": raw_contract[\"execution\"][\"year\"] + \"-\" + raw_contract[\"execution\"][\"month\"] + \"-30T00:00:00\" \n",
    "            if \"month\" in raw_contract[\"execution\"] \n",
    "            else raw_contract[\"execution\"][\"endDate\"],\n",
    "        \"price\": raw_contract[\"price\"],\n",
    "        \"supplier_regNum\": raw_contract[\"regNum\"],\n",
    "        \"supplier_inn\": raw_contract[\"suppliers\"][0][\"inn\"] \n",
    "            if \"inn\" in raw_contract[\"suppliers\"][0] \n",
    "            else None,\n",
    "        \"supplier_name\": raw_contract[\"suppliers\"][0][\"organizationName\"].replace(\"\\n\", \" \").replace(\"\\r\", \" \") \n",
    "            if \"organizationName\" in raw_contract[\"suppliers\"][0] \n",
    "            else None\n",
    "    }"
   ]
  },
  {
   "cell_type": "markdown",
   "metadata": {},
   "source": [
    "# Save data"
   ]
  },
  {
   "cell_type": "code",
   "execution_count": 127,
   "metadata": {
    "collapsed": false
   },
   "outputs": [],
   "source": [
    "def save(contracts, filename):\n",
    "    with open(filename, \"w\") as outfile:\n",
    "        f = csv.writer(outfile)\n",
    "        for contract in contracts:\n",
    "            f.writerow([\n",
    "                unicode(contract[\"regionCode\"]).encode(\"utf-8\"),\n",
    "                unicode(contract[\"signDate\"]).encode(\"utf-8\"),\n",
    "                unicode(contract[\"executionDate\"]).encode(\"utf-8\"),\n",
    "                unicode(str(contract[\"price\"])).encode(\"utf-8\"),\n",
    "                unicode(contract[\"supplier_regNum\"]).encode(\"utf-8\"),\n",
    "                unicode(contract[\"supplier_inn\"]).encode(\"utf-8\"),\n",
    "                unicode(contract[\"supplier_name\"]).encode(\"utf-8\")\n",
    "            ])"
   ]
  },
  {
   "cell_type": "markdown",
   "metadata": {},
   "source": [
    "# Main"
   ]
  },
  {
   "cell_type": "code",
   "execution_count": 135,
   "metadata": {
    "collapsed": true
   },
   "outputs": [],
   "source": [
    "okdp_list = [\n",
    "    \"92.20.11.110\",\n",
    "    \"92.20.11.111\",\n",
    "    \"92.20.11.112\",\n",
    "    \"92.20.11.120\",\n",
    "    \"92.20.11.121\",\n",
    "    \"92.20.11.122\",\n",
    "    \"92.20.11.130\",\n",
    "    \"92.20.11.131\",\n",
    "    \"92.20.11.132\",\n",
    "    \"92.20.11.140\",\n",
    "    \"92.20.11.141\",\n",
    "    \"92.20.11.142\",\n",
    "    \"92.20.11.190\",\n",
    "    \"92.20.11.191\",\n",
    "    \"92.20.11.192\",\n",
    "    \"92.20.12.110\",\n",
    "    \"92.20.12.111\",\n",
    "    \"92.20.12.112\",\n",
    "    \"92.20.12.120\",\n",
    "    \"92.20.12.121\",\n",
    "    \"92.20.12.122\",\n",
    "    \"92.20.12.130\",\n",
    "    \"92.20.12.131\",\n",
    "    \"92.20.12.132\",\n",
    "    \"92.20.12.140\",\n",
    "    \"92.20.12.141\",\n",
    "    \"92.20.12.142\",\n",
    "    \"92.20.12.190\",\n",
    "    \"92.20.12.191\",\n",
    "    \"92.20.12.192\",\n",
    "    \"22.12.11.110\",\n",
    "    \"22.12.11.120\",\n",
    "    \"22.12.11.190\",\n",
    "    \"22.12.11.210\",\n",
    "    \"22.12.12.110\",\n",
    "    \"22.12.12.111\",\n",
    "    \"22.12.12.112\",\n",
    "    \"22.12.12.113\",\n",
    "    \"22.12.12.114\",\n",
    "    \"22.12.12.115\",\n",
    "    \"22.12.12.116\",\n",
    "    \"22.12.12.117\",\n",
    "    \"22.12.12.119\",\n",
    "    \"22.12.12.120\",\n",
    "    \"22.12.12.190\",\n",
    "    \"22.12.21.110\",\n",
    "    \"22.12.21.120\",\n",
    "    \"22.12.21.190\",\n",
    "    \"22.12.22.110\",\n",
    "    \"22.12.22.120\",\n",
    "    \"22.12.22.190\",\n",
    "    \"22.12.99.000\",\n",
    "    \"22.13.11.110\",\n",
    "    \"22.13.11.111\",\n",
    "    \"22.13.11.112\",\n",
    "    \"22.13.11.113\",\n",
    "    \"22.13.11.114\",\n",
    "    \"22.13.11.115\",\n",
    "    \"22.13.11.116\",\n",
    "    \"22.13.11.117\",\n",
    "    \"22.13.11.118\",\n",
    "    \"22.13.11.119\",\n",
    "    \"22.13.11.120\",\n",
    "    \"22.13.11.121\",\n",
    "    \"22.13.11.122\",\n",
    "    \"22.13.11.123\",\n",
    "    \"22.13.11.124\",\n",
    "    \"22.13.11.125\",\n",
    "    \"22.13.11.126\",\n",
    "    \"22.13.11.129\",\n",
    "    \"22.13.11.190\",\n",
    "    \"22.13.11.210\",\n",
    "    \"22.13.12.110\",\n",
    "    \"22.13.12.111\",\n",
    "    \"22.13.12.112\",\n",
    "    \"22.13.12.113\",\n",
    "    \"22.13.12.114\",\n",
    "    \"22.13.12.115\",\n",
    "    \"22.13.12.116\",\n",
    "    \"22.13.12.117\",\n",
    "    \"22.13.12.118\",\n",
    "    \"22.13.12.119\",\n",
    "    \"22.13.12.120\",\n",
    "    \"22.13.12.121\",\n",
    "    \"22.13.12.122\",\n",
    "    \"22.13.12.123\",\n",
    "    \"22.13.12.124\",\n",
    "    \"22.13.12.125\",\n",
    "    \"22.13.12.126\",\n",
    "    \"22.13.12.129\",\n",
    "    \"22.13.12.190\",\n",
    "    \"22.13.21.110\",\n",
    "    \"22.13.21.120\",\n",
    "    \"22.13.21.190\",\n",
    "    \"22.13.22.110\",\n",
    "    \"22.13.22.120\",\n",
    "    \"22.13.22.190\",\n",
    "    \"22.13.99.000\"\n",
    "]"
   ]
  },
  {
   "cell_type": "code",
   "execution_count": null,
   "metadata": {
    "collapsed": false,
    "scrolled": false
   },
   "outputs": [
    {
     "name": "stdout",
     "output_type": "stream",
     "text": [
      "RECEIVING\n",
      "!okdp 92.20.11.110 01.01.2014-31.12.2015 total: 1 \t| 1 \n",
      "!okdp 92.20.11.111 01.01.2014-31.12.2015 total: 20 \t| 1 \n",
      "!okdp 92.20.11.112 01.01.2014-31.12.2015 total: 23 \t| 1 \n",
      "!okdp 92.20.11.120 01.01.2014-31.12.2015 total: 41 \t| 1 \n",
      "!okdp 92.20.11.121 01.01.2014-31.12.2015 total: 407 \t| 1 2 3 4 5 6 7 8 9 \n",
      "!okdp 92.20.11.122 01.01.2014-31.12.2015 total: 457 \t| 1 2 3 4 5 6 7 8 9 10 \n",
      "!okdp 92.20.11.130 01.01.2014-31.12.2015 total: 3 \t| 1 \n",
      "!okdp 92.20.11.131 01.01.2014-31.12.2015 total: 23 \t| 1 \n",
      "!okdp 92.20.11.132 01.01.2014-31.12.2015 total: 24 \t| 1 \n",
      "!okdp 92.20.11.140 01.01.2014-31.12.2015 total: 2 \t| 1 \n",
      "!okdp 92.20.11.141 01.01.2014-31.12.2015 total: 9 \t| 1 \n",
      "!okdp 92.20.11.142 01.01.2014-31.12.2015 total: 12 \t| 1 \n",
      "!okdp 92.20.11.190 01.01.2014-31.12.2015 total: 2 \t| 1 \n",
      "!okdp 92.20.11.191 01.01.2014-31.12.2015 total: 88 \t| 1 2 \n",
      "!okdp 92.20.11.192 01.01.2014-31.12.2015 total: 94 \t| 1 2 \n",
      "!okdp 92.20.12.110 01.01.2014-31.12.2015 total: 4 \t| 1 \n",
      "!okdp 92.20.12.111 01.01.2014-31.12.2015 total: 28 \t| 1 \n",
      "!okdp 92.20.12.112 01.01.2014-31.12.2015 total: 38 \t| 1 \n",
      "!okdp 92.20.12.120 01.01.2014-31.12.2015 total: 173 \t| 1 2 3 4 \n",
      "!okdp 92.20.12.121 01.01.2014-31.12.2015 total: 500 too many!\n",
      "01.01.2014-31.12.2014 total: 428 \t| 1 2 3 4 5 6 7 8 9 \n",
      "31.12.2014-31.12.2015 total: 500 too many!\n",
      "31.12.2014-01.07.2015 total: 361 \t| 1 2 3 4 5 6 7 8 \n",
      "01.07.2015-31.12.2015 total: 153 \t| 1 2 3 4 \n",
      "!okdp 92.20.12.122 01.01.2014-31.12.2015 total: 500 too many!\n",
      "01.01.2014-31.12.2014 total: 500 too many!\n",
      "01.01.2014-02.07.2014 total: 500 too many!\n",
      "01.01.2014-02.04.2014 total: 210 \t| 1 2 3 4 5 \n",
      "02.04.2014-02.07.2014 total: 310 \t| 1 2 3 4 5 6 7 \n",
      "02.07.2014-31.12.2014 total: 500 too many!\n",
      "02.07.2014-01.10.2014 total: 265 \t| 1 2 3 4 5 6 \n",
      "01.10.2014-31.12.2014 total: 246 \t| 1 2 3 4 5 \n",
      "31.12.2014-31.12.2015 total: 500 too many!\n",
      "31.12.2014-01.07.2015 total: 500 too many!\n",
      "31.12.2014-01.04.2015 total: 460 \t| 1 2 3 4 5 6 7 8 9 10 \n",
      "01.04.2015-01.07.2015 total: 295 \t| 1 2 3 4 5 6 \n",
      "01.07.2015-31.12.2015 total: 416 \t| 1 2 3 4 5 6 7 8 9 \n",
      "!okdp 92.20.12.130 01.01.2014-31.12.2015 total: 4 \t| 1 \n",
      "!okdp 92.20.12.131 01.01.2014-31.12.2015 total: 59 \t| 1 2 \n",
      "!okdp 92.20.12.132 01.01.2014-31.12.2015 total: 151 \t| 1 2 3 4 \n",
      "!okdp 92.20.12.140 01.01.2014-31.12.2015 total: 1 \t| 1 \n",
      "!okdp 92.20.12.141 01.01.2014-31.12.2015 total: 12 \t| 1 \n",
      "!okdp 92.20.12.142 01.01.2014-31.12.2015 total: 26 \t| 1 \n",
      "!okdp 92.20.12.190 01.01.2014-31.12.2015 total: 24 \t| 1 \n",
      "!okdp 92.20.12.191 01.01.2014-31.12.2015 total: 203 \t| 1 2 3 4 5 \n",
      "!okdp 92.20.12.192 01.01.2014-31.12.2015 total: 500 too many!\n",
      "01.01.2014-31.12.2014 total: 252 \t| 1 2 3 4 5 6 \n",
      "31.12.2014-31.12.2015 total: 256 \t| 1 2 3 4 5 6 \n",
      "!okdp 22.12.11.110 01.01.2014-31.12.2015 total: 14 \t| 1 \n",
      "!okdp 22.12.11.120 01.01.2014-31.12.2015 total: 198 \t| 1 2 3 4 \n",
      "!okdp 22.12.11.190 01.01.2014-31.12.2015 total: 500 too many!\n",
      "01.01.2014-31.12.2014 total: 356 \t| 1 2 3 4 5 6 7 8 \n",
      "31.12.2014-31.12.2015 total: 192 \t| 1 2 3 4 \n",
      "!okdp 22.12.11.210 01.01.2014-31.12.2015 total: 64 \t| 1 2 \n",
      "!okdp 22.12.12.110 01.01.2014-31.12.2015 \n",
      "<class '__main__.DataNotFoundException'> {'okdp_okpd': '22.12.12.110', 'daterange': '01.01.2014-31.12.2015'}\n",
      "!okdp 22.12.12.111 01.01.2014-31.12.2015 total: 10 \t| 1 \n",
      "!okdp 22.12.12.112 01.01.2014-31.12.2015 total: 3 \t| 1 \n",
      "!okdp 22.12.12.113 01.01.2014-31.12.2015 total: 4 \t| 1 \n",
      "!okdp 22.12.12.114 01.01.2014-31.12.2015 total: 12 \t| 1 \n",
      "!okdp 22.12.12.115 01.01.2014-31.12.2015 total: 6 \t| 1 \n",
      "!okdp 22.12.12.116 01.01.2014-31.12.2015 total: 1 \t| 1 \n",
      "!okdp 22.12.12.117 01.01.2014-31.12.2015 total: 1 \t| 1 \n",
      "!okdp 22.12.12.119 01.01.2014-31.12.2015 total: 6 \t| 1 \n",
      "!okdp 22.12.12.120 01.01.2014-31.12.2015 total: 14 \t| 1 \n",
      "!okdp 22.12.12.190 01.01.2014-31.12.2015 total: 25 \t| 1 \n",
      "!okdp 22.12.21.110 01.01.2014-31.12.2015 total: 203 \t| 1 2 3 4 5 \n",
      "!okdp 22.12.21.120 01.01.2014-31.12.2015 total: 10 \t| 1 \n",
      "!okdp 22.12.21.190 01.01.2014-31.12.2015 total: 16 \t| 1 \n",
      "!okdp 22.12.22.110 01.01.2014-31.12.2015 total: 13 \t| 1 \n",
      "!okdp 22.12.22.120 01.01.2014-31.12.2015 \n",
      "<class '__main__.DataNotFoundException'> {'okdp_okpd': '22.12.22.120', 'daterange': '01.01.2014-31.12.2015'}\n",
      "!okdp 22.12.22.190 01.01.2014-31.12.2015 total: 8 \t| 1 \n",
      "!okdp 22.12.99.000 01.01.2014-31.12.2015 total: 147 \t| 1 2 3 \n",
      "!okdp 22.13.11.110 01.01.2014-31.12.2015 total: 34 \t| 1 \n",
      "!okdp 22.13.11.111 01.01.2014-31.12.2015 total: 399 \t| 1 2 3 4 5 6 7 8 \n",
      "!okdp 22.13.11.112 01.01.2014-31.12.2015 total: 122 \t| 1 2 3 \n",
      "!okdp 22.13.11.113 01.01.2014-31.12.2015 total: 245 \t| 1 2 3 4 5 \n",
      "!okdp 22.13.11.114 01.01.2014-31.12.2015 total: 317 \t| 1 2 3 4 5 6 7 \n",
      "!okdp 22.13.11.115 01.01.2014-31.12.2015 total: 426 \t| 1 2 3 4 5 6 7 8 9 \n",
      "!okdp 22.13.11.116 01.01.2014-31.12.2015 total: 70 \t| 1 2 \n",
      "!okdp 22.13.11.117 01.01.2014-31.12.2015 total: 23 \t| 1 \n",
      "!okdp 22.13.11.118 01.01.2014-31.12.2015 total: 7 \t| 1 \n",
      "!okdp 22.13.11.119 01.01.2014-31.12.2015 total: 318 \t| 1 2 3 4 5 6 7 \n",
      "!okdp 22.13.11.120 01.01.2014-31.12.2015 total: 19 \t| 1 \n",
      "!okdp 22.13.11.121 01.01.2014-31.12.2015 total: 128 \t| 1 2 3 \n",
      "!okdp 22.13.11.122 01.01.2014-31.12.2015 total: 399 \t| 1 2 3 4 5 6 7 8 \n",
      "!okdp 22.13.11.123 01.01.2014-31.12.2015 total: 411 \t| 1 2 3 4 5 6 7 8 9 \n",
      "!okdp 22.13.11.124 01.01.2014-31.12.2015 total: 67 \t| 1 2 \n",
      "!okdp 22.13.11.125 01.01.2014-31.12.2015 total: 47 \t| 1 \n",
      "!okdp 22.13.11.126 01.01.2014-31.12.2015 total: 37 \t| 1 \n",
      "!okdp 22.13.11.129 01.01.2014-31.12.2015 total: 424 \t| 1 2 3 4 5 6 7 8 9 \n",
      "!okdp 22.13.11.190 01.01.2014-31.12.2015"
     ]
    }
   ],
   "source": [
    "start_date = date(2014, 1, 1)\n",
    "end_date = date(2015, 12, 31)\n",
    "\n",
    "print 'RECEIVING'\n",
    "raw_contracts = get_raw_contracts(okdp_list, start_date, end_date)\n",
    "print 'PREPROCESSING'\n",
    "contracts = [preprocessing(raw_contract) for raw_contract in raw_contracts]\n",
    "print 'SAVING'\n",
    "save(contracts, \"contracts.csv\")\n",
    "print 'DONE!'"
   ]
  }
 ],
 "metadata": {
  "kernelspec": {
   "display_name": "Python 2",
   "language": "python",
   "name": "python2"
  },
  "language_info": {
   "codemirror_mode": {
    "name": "ipython",
    "version": 2
   },
   "file_extension": ".py",
   "mimetype": "text/x-python",
   "name": "python",
   "nbconvert_exporter": "python",
   "pygments_lexer": "ipython2",
   "version": "2.7.11"
  }
 },
 "nbformat": 4,
 "nbformat_minor": 0
}
